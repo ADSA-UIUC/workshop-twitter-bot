{
 "cells": [
  {
   "cell_type": "code",
   "execution_count": 2,
   "metadata": {
    "collapsed": false
   },
   "outputs": [
    {
     "name": "stdout",
     "output_type": "stream",
     "text": [
      "Module Imported!\n"
     ]
    }
   ],
   "source": [
    "import tweepy\n",
    "print \"Module Imported!\""
   ]
  },
  {
   "cell_type": "code",
   "execution_count": 12,
   "metadata": {
    "collapsed": true
   },
   "outputs": [],
   "source": [
    "consumer_key = \"L9kS8qkG3UCO1v1XaUl4rzPH8\"\n",
    "consumer_secret = \"7cMcsIeaWExidr2iwRtiGhkgdYUV2o9MvoSakUFZMGNXJTlQ2m\"\n",
    "access_token = \"1620955808-NwFL70fMhxRSXBMxyFRlVAvFAg5aiQ3pp31Bs1j\"\n",
    "access_token_secret = \"DPI3295IRmktAqcF0r0q7fM2CsHXY5FndrvYEHy4wJdil\""
   ]
  },
  {
   "cell_type": "code",
   "execution_count": 13,
   "metadata": {
    "collapsed": true
   },
   "outputs": [],
   "source": [
    "auth = tweepy.OAuthHandler(consumer_key, consumer_secret)\n",
    "auth.set_access_token(access_token, access_token_secret)\n",
    "\n",
    "api = tweepy.API(auth)"
   ]
  },
  {
   "cell_type": "code",
   "execution_count": 31,
   "metadata": {
    "collapsed": false
   },
   "outputs": [
    {
     "name": "stdout",
     "output_type": "stream",
     "text": [
      ".@FoxNews should be ashamed for allowing experts to explain how to make a nuclear attack!\n"
     ]
    }
   ],
   "source": [
    "user = api.get_user('realDonaldTrump')\n",
    "statuses = user.status\n",
    "print statuses.text"
   ]
  },
  {
   "cell_type": "code",
   "execution_count": null,
   "metadata": {
    "collapsed": true
   },
   "outputs": [],
   "source": []
  }
 ],
 "metadata": {
  "kernelspec": {
   "display_name": "Python 2",
   "language": "python",
   "name": "python2"
  },
  "language_info": {
   "codemirror_mode": {
    "name": "ipython",
    "version": 2
   },
   "file_extension": ".py",
   "mimetype": "text/x-python",
   "name": "python",
   "nbconvert_exporter": "python",
   "pygments_lexer": "ipython2",
   "version": "2.7.11"
  }
 },
 "nbformat": 4,
 "nbformat_minor": 0
}
