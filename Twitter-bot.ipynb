{
 "cells": [
  {
   "cell_type": "markdown",
   "metadata": {},
   "source": [
    "![ADSA Logo](http://i.imgur.com/BV0CdHZ.png?2 \"ADSA Logo\")"
   ]
  },
  {
   "cell_type": "markdown",
   "metadata": {},
   "source": [
    "# ADSA Workshop 5 - Data Mining with Web APIs\n",
    "Workshop content created by Shivam Bharuka and Jackson Davis, with some content adapted from:\n",
    "* [Data Science from Scratch - First Principles with Python](http://www.amazon.com/Data-Science-Scratch-Principles-Python/dp/149190142X).\n",
    "\n",
    "In this workshop, we will discuss the OAuth authentication protocol, what web APIs are, and how we can use them to get meaningful data for our projects. We will be working with popular social media APIs such as the Twitter and Instagram APIs, and cover examples showing how we can pull, run computations on, and visualize real world data.\n",
    "\n",
    "If you’ve missed out on any of our previous Python workshops (Basic Python, Advanced Python, Numpy, Statistics, and Probability, and Pandas and Matplotlib) or want to learn Python from scratch, we have provided follow-along tutorials on our GitHub: https://github.com/ADSA-UIUC. Installation instructions are included in the Introduction to Python tutorial.\n",
    "***"
   ]
  },
  {
   "cell_type": "markdown",
   "metadata": {},
   "source": [
    "# What Is an API?"
   ]
  },
  {
   "cell_type": "markdown",
   "metadata": {},
   "source": [
    "An API, Application Programming Interface, is a interface provided by a company which allows you to explicitly request data in a structured format. Traditionally, developers often have to write programs known as web scrapers "
   ]
  },
  {
   "cell_type": "markdown",
   "metadata": {},
   "source": [
    "# The Twitter API"
   ]
  },
  {
   "cell_type": "code",
   "execution_count": 2,
   "metadata": {
    "collapsed": false
   },
   "outputs": [
    {
     "name": "stdout",
     "output_type": "stream",
     "text": [
      "Module Imported!\n"
     ]
    }
   ],
   "source": [
    "import tweepy\n",
    "print \"Module Imported!\""
   ]
  },
  {
   "cell_type": "code",
   "execution_count": 35,
   "metadata": {
    "collapsed": true
   },
   "outputs": [],
   "source": [
    "# Initialize keys and secret tokens from the twitter dev account: apps.twitter.com\n",
    "consumer_key = \"L9kS8qkG3UCO1v1XaUl4rzPH8\"\n",
    "consumer_secret = \"7cMcsIeaWExidr2iwRtiGhkgdYUV2o9MvoSakUFZMGNXJTlQ2m\"\n",
    "access_token = \"1620955808-NwFL70fMhxRSXBMxyFRlVAvFAg5aiQ3pp31Bs1j\"\n",
    "access_token_secret = \"DPI3295IRmktAqcF0r0q7fM2CsHXY5FndrvYEHy4wJdil\""
   ]
  },
  {
   "cell_type": "code",
   "execution_count": 37,
   "metadata": {
    "collapsed": true
   },
   "outputs": [],
   "source": [
    "# Create an Oauth Handler instance\n",
    "auth = tweepy.OAuthHandler(consumer_key, consumer_secret)\n",
    "auth.set_access_token(access_token, access_token_secret)\n",
    "# Construct the API instance\n",
    "api = tweepy.API(auth)"
   ]
  },
  {
   "cell_type": "code",
   "execution_count": 49,
   "metadata": {
    "collapsed": false
   },
   "outputs": [],
   "source": [
    "# Tweet a test message and then destroy it using the tweet id\n",
    "status = api.update_status(\"Hi this is a test message.\")\n",
    "status_id = status.id\n",
    "status_destroy = api.destroy_status(status_id)"
   ]
  },
  {
   "cell_type": "code",
   "execution_count": 41,
   "metadata": {
    "collapsed": false
   },
   "outputs": [
    {
     "name": "stdout",
     "output_type": "stream",
     "text": [
      ".@FoxNews should be ashamed for allowing experts to explain how to make a nuclear attack!\n"
     ]
    }
   ],
   "source": [
    "# Get the user object from \"realDonaldTrump\"\n",
    "user = api.get_user('realDonaldTrump')\n",
    "statuses = user.status\n",
    "print statuses.text"
   ]
  },
  {
   "cell_type": "markdown",
   "metadata": {},
   "source": [
    "# Alchemy API"
   ]
  },
  {
   "cell_type": "code",
   "execution_count": 58,
   "metadata": {
    "collapsed": false
   },
   "outputs": [],
   "source": [
    "# import alchemy API\n",
    "from alchemyapi import AlchemyAPI\n",
    "# initialize api instance\n",
    "alchemyapi = AlchemyAPI()"
   ]
  },
  {
   "cell_type": "code",
   "execution_count": 62,
   "metadata": {
    "collapsed": false
   },
   "outputs": [
    {
     "name": "stdout",
     "output_type": "stream",
     "text": [
      "Sentiment:  negative\n"
     ]
    }
   ],
   "source": [
    "# Analyze the sentiment of the text\n",
    "response = alchemyapi.sentiment(\"text\", statuses.text)\n",
    "print \"Sentiment: \",response[\"docSentiment\"][\"type\"]"
   ]
  }
 ],
 "metadata": {
  "kernelspec": {
   "display_name": "Python 2",
   "language": "python",
   "name": "python2"
  },
  "language_info": {
   "codemirror_mode": {
    "name": "ipython",
    "version": 2
   },
   "file_extension": ".py",
   "mimetype": "text/x-python",
   "name": "python",
   "nbconvert_exporter": "python",
   "pygments_lexer": "ipython2",
   "version": "2.7.10"
  }
 },
 "nbformat": 4,
 "nbformat_minor": 0
}
