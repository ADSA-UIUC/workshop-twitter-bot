{
 "cells": [
  {
   "cell_type": "markdown",
   "metadata": {},
   "source": [
    "![ADSA Logo](http://i.imgur.com/BV0CdHZ.png?2 \"ADSA Logo\")"
   ]
  },
  {
   "cell_type": "markdown",
   "metadata": {},
   "source": [
    "# ADSA Workshop 5 - Data Mining with Web APIs\n",
    "Workshop content created by Shivam Bharuka and Jackson Davis, with some content adapted from:\n",
    "* [Data Science from Scratch - First Principles with Python](http://www.amazon.com/Data-Science-Scratch-Principles-Python/dp/149190142X).\n",
    "\n",
    "In this workshop, we will discuss the OAuth authentication protocol, what web APIs are, and how we can use them to get meaningful data for our projects. We will be working with popular social media APIs such as the Twitter and Instagram APIs, and cover examples showing how we can pull, run computations on, and visualize real world data.\n",
    "\n",
    "If you’ve missed out on any of our previous Python workshops (Basic Python, Advanced Python, Numpy, Statistics, and Probability, and Pandas and Matplotlib) or want to learn Python from scratch, we have provided follow-along tutorials on our GitHub: https://github.com/ADSA-UIUC. Installation instructions are included in the Introduction to Python tutorial.\n",
    "***"
   ]
  },
  {
   "cell_type": "markdown",
   "metadata": {},
   "source": [
    "# What Is an API?"
   ]
  },
  {
   "cell_type": "markdown",
   "metadata": {},
   "source": [
    "As we know, the internet contains a massive amount of useful data. In order to access this data (weather reports, news articles, social media posts, etc.), developers often have to write programs known as web scrapers, which manually go through a web page's HTML code in order to extract data. This is often a very tedious task, and any changes made to the HTML code on the company's end would often require us to make changes to our web scraper. \n",
    "\n",
    "An API, or Application Programming Interface, is a interface provided by a company or organization, which allows us to explicitly request data in a structured format without having to rely on a web scraper to get the data ourselves!"
   ]
  },
  {
   "cell_type": "markdown",
   "metadata": {},
   "source": [
    "# JSON"
   ]
  },
  {
   "cell_type": "markdown",
   "metadata": {},
   "source": [
    "In order to effectively communicate data between a server and a client, us in this case, developers often rely on a data model known as JSON. JSON, or JavaScript Object Notation, is a text-based format containing keys and values, which acts extremely similar to a Python dictionary.\n",
    "\n",
    "JSON can be thought of the equivalent of a dictionary in JavaScript, a language widely used in web development, and though this format is native to JavaScript, Python provides us with tools for parsing the data into a format it can understand. \n",
    "\n",
    "Here is an example of a JSON object:"
   ]
  },
  {
   "cell_type": "code",
   "execution_count": 6,
   "metadata": {
    "collapsed": false
   },
   "outputs": [
    {
     "data": {
      "text/plain": [
       "{'data': [{'attributes': {'body': 'ADSA is a cool club.',\n",
       "    'title': 'ADSA Rocks'},\n",
       "   'id': '1',\n",
       "   'type': 'articles'}],\n",
       " 'included': [{'attributes': {'name': 'John'}, 'id': '42', 'type': 'people'}]}"
      ]
     },
     "execution_count": 6,
     "metadata": {},
     "output_type": "execute_result"
    }
   ],
   "source": [
    "\"\"\"{\"title\" : \"Data Science Book\",\n",
    "\"author\" : \"Joel Grus\",\n",
    "\"publicationYear\" : 2014,\n",
    "\"topics\" : [ \"data\", \"science\", \"data science\"] }\"\"\""
   ]
  },
  {
   "cell_type": "markdown",
   "metadata": {},
   "source": [
    "This might look identical to a dictionary, however, JSON is sent as a string of a text rather than a data structure. Furthermore in real servers, there will be more information than just the JSON object returned from a request (we will go over examples of this shortly). Now, we can discuss how we request data from a server."
   ]
  },
  {
   "cell_type": "markdown",
   "metadata": {},
   "source": [
    "# HTTP Requests"
   ]
  },
  {
   "cell_type": "markdown",
   "metadata": {},
   "source": [
    "The HTTP protocol is a system dictating how both requests and responses should be made through the internet. This system is supported by all browsers, and is the basis for how information is transfered through the web. We will now discuss how data is requested through the HTTP protocol."
   ]
  },
  {
   "cell_type": "markdown",
   "metadata": {},
   "source": [
    "When a client makes a request, either through a web browser or coding language, attached to that request is a HTTP verb label, telling the server what sort of request is being made. The HTTP protocol has defined a list of \"HTTP Methods\", or \"HTTP Verbs\", outlining what requests we can make. A full list of the HTTP request methods can be found [here](http://www.tutorialspoint.com/http/http_requests.htm), however we can quickly go over the two most commonly used requests."
   ]
  },
  {
   "cell_type": "markdown",
   "metadata": {},
   "source": [
    "### GET "
   ]
  },
  {
   "cell_type": "markdown",
   "metadata": {},
   "source": [
    "A HTTP GET request is sent to a specific URL or URI (more on this shortly) when a client wants to retrieve information from a server. In this case, the server will pull the requested information from its database, package it into JSON (or XML in some cases), and return the data as a HTTP response. As we will discuss in a second, a server knows which information to return based on what URL the GET request is sent to. After a GET request, no data is changed on the servers end, it is only copied and sent to the client."
   ]
  },
  {
   "cell_type": "markdown",
   "metadata": {},
   "source": [
    "### POST"
   ]
  },
  {
   "cell_type": "markdown",
   "metadata": {},
   "source": [
    "On the other hand, A HTTP POST request is sent to a specific URL or URI when a client wants to send information to a server. The data sent to a server is often packaged into what we call \"forms or headers\" rather than the actual URL we see (we will show an example of this later). In this case, the server will take whatever information has been sent, and modify its database to add the new data. When it completes its task, the server will often return a HTTP response stating whether the data went through properly or not. POST requests are used often in things such as Facebook or social media posts in general, or any time new data is being sent from a client to a server."
   ]
  },
  {
   "cell_type": "markdown",
   "metadata": {},
   "source": [
    "# HTTP Responses"
   ]
  },
  {
   "cell_type": "markdown",
   "metadata": {},
   "source": [
    "Whenever a server receives a request, it will notify the client whether or not its request went through properly through a number of HTTP respose codes. While verbs such as GET, POST, PATCH, or PUT are used for HTTP requests, 3 digit status codes are used for HTTP responses. The full list of HTTP response codes can be viewed [here](https://en.wikipedia.org/wiki/List_of_HTTP_status_codes). While there are many codes, in general, there are only 5 major categories, broken up by 100s, of responses. These are:\n",
    "* 1xx - Informational Responses\n",
    "* 2xx - Success Responses\n",
    "* 3xx - Redirection Responses\n",
    "* 4xx - Client Error Responses\n",
    "* 5xx - Server Error Responses\n",
    "\n",
    "If any of this sounds confusing, an example that many of us have seen of a response code is 404, or Not Found. We often see this code when we are trying to go to a webpage that no longer exists, or a URL extension that is not valid. An example of a 404 error can be found at https://www.facebook.com/wut. Since this URL does not actual exist, and there is no specific data for that page, Facebook, or servers in general, will often make a placeholder page like the one shown. On any page that does exist, though, our goal is to receive a 200 or 2xx response code, meaning that everything is ok!"
   ]
  },
  {
   "cell_type": "markdown",
   "metadata": {},
   "source": [
    "# What happens when URL(adsauiuc.com) is entered into your browser?"
   ]
  },
  {
   "cell_type": "markdown",
   "metadata": {},
   "source": [
    "* When ‘a’ is typed then the browser receives the event and auto-complete machinery algorithms are run.\n",
    "* After enter is pressed, browser has the protocol (http) and resource (/) in the URL(Uniform Resource Locator).\n",
    "* Browser checks the HSTS list which has the websites to be contacted via https only.\n",
    "* Browser checks if the website is in its cache. If not then it makes a request to the DNS (Domain Name System) server to receive the IP address of the destination server.\n",
    "* Now it takes the IP address and the given port number (the HTTP protocol defaults to port 80, and HTTPS to port 443) to open a TCP (Transmission Control Protocol) connection with the server.\n",
    "* Browser sends a HTTP request via TCP connection. The request to the server is of the form:\n",
    "\n",
    "\tGET / HTTP/1.1\n",
    "\tHost: adsauiuc.com\n",
    "\tConnection: close\n",
    "\t[other headers]\n",
    "\n",
    "\twhere HTTP/1.1 defines a close connection option for the sender.\n",
    "* The web server looks up for a cookie file that it has set. If it finds one, it sends it to the server with the URL. If there are no cookie file associated then the server creates a new ID in its database and sends it to the client’s machine which is stored as a name-value pair in the hard-disk.\n",
    "* The server responds with a response code denoting the status of the request. It then sends a payload of HTML content of www.adsauiuc.com. \n",
    "* If cacheable, response is stored in cache.\n",
    "* Once the server provides the resources including HTML, CSS, JS etc it undergoes the below processes:\n",
    "\t* Parsing: HTML, CSS, JS\n",
    "\t* Rendering: Constructing a DOM tree -> Render Tree.\n"
   ]
  },
  {
   "cell_type": "markdown",
   "metadata": {},
   "source": [
    "# OAuth"
   ]
  },
  {
   "cell_type": "markdown",
   "metadata": {},
   "source": [
    "# Using an API (InstagramAPI)"
   ]
  },
  {
   "cell_type": "markdown",
   "metadata": {},
   "source": [
    "Since HTTP gives us a convenient and defined way of carrying out web communication, companies and organizations began to create a well-defined list of URL's which, when sent an HTTP request, will return specific pieces of data. \n",
    "\n",
    "We will now go over some examples using the well-documented InstagramAPI. The InstagramAPI's documentation is located [here](https://www.instagram.com/developer/endpoints/), and contains information about how many requests you can make for free, the structure of its responses, and the various URL's and HTTP verbs to use to retrieve data. \n",
    "\n",
    "In order to interact with the API, we are required to make a developer account so Instagram knows where its requests are coming from. For the purposes of this demo, I have created a Instagram account called adsa_fake. (Note that there are limits to how many requests we can make per day, so the adsa_fake account may not always work if multiple people are following this tutorial at once)."
   ]
  },
  {
   "cell_type": "markdown",
   "metadata": {},
   "source": [
    "## Python Requests"
   ]
  },
  {
   "cell_type": "markdown",
   "metadata": {},
   "source": [
    "In order to make HTTP requests in Python, we can use the conveniently named requests library. As mentioned, in order to use the InstagramAPI we need to authorize our account. Each API works differently, so it's important to read the documentation. I have already saved us the trouble of registering for a developer account and receiving an OAuth token as described on [this link](https://www.instagram.com/developer/authentication/), (and [this link](http://www.slickremix.com/docs/how-to-create-instagram-access-token/) for a bit more clarification about getting a access_token for a fake account).\n",
    "\n",
    "Since we have the OAuth token, we can now make requests to Instagram's API like so:"
   ]
  },
  {
   "cell_type": "code",
   "execution_count": 21,
   "metadata": {
    "collapsed": false
   },
   "outputs": [
    {
     "name": "stdout",
     "output_type": "stream",
     "text": [
      "{u'meta': {u'code': 200}, u'data': []}\n"
     ]
    }
   ],
   "source": [
    "import requests, json\n",
    "\n",
    "# From following the authorization instructions online\n",
    "access_token = \"3097148823.059bf99.c318ec4e91cc46999d2911677012b028\"\n",
    "\n",
    "# The GET users/search endpoint\n",
    "search = \"illinois\"\n",
    "endpoint = \"https://api.instagram.com/v1/users/search?q=\" + search + \"&access_token=\" + access_token\n",
    "\n",
    "repos = json.loads(requests.get(endpoint).text)\n",
    "\n",
    "print repos"
   ]
  },
  {
   "cell_type": "markdown",
   "metadata": {},
   "source": [
    "# The Twitter API"
   ]
  },
  {
   "cell_type": "code",
   "execution_count": 2,
   "metadata": {
    "collapsed": false
   },
   "outputs": [
    {
     "name": "stdout",
     "output_type": "stream",
     "text": [
      "Module Imported!\n"
     ]
    }
   ],
   "source": [
    "import tweepy\n",
    "print \"Module Imported!\""
   ]
  },
  {
   "cell_type": "code",
   "execution_count": 35,
   "metadata": {
    "collapsed": true
   },
   "outputs": [],
   "source": [
    "# Initialize keys and secret tokens from the twitter dev account: apps.twitter.com\n",
    "consumer_key = \"L9kS8qkG3UCO1v1XaUl4rzPH8\"\n",
    "consumer_secret = \"7cMcsIeaWExidr2iwRtiGhkgdYUV2o9MvoSakUFZMGNXJTlQ2m\"\n",
    "access_token = \"1620955808-NwFL70fMhxRSXBMxyFRlVAvFAg5aiQ3pp31Bs1j\"\n",
    "access_token_secret = \"DPI3295IRmktAqcF0r0q7fM2CsHXY5FndrvYEHy4wJdil\""
   ]
  },
  {
   "cell_type": "code",
   "execution_count": 37,
   "metadata": {
    "collapsed": true
   },
   "outputs": [],
   "source": [
    "# Create an Oauth Handler instance\n",
    "auth = tweepy.OAuthHandler(consumer_key, consumer_secret)\n",
    "auth.set_access_token(access_token, access_token_secret)\n",
    "# Construct the API instance\n",
    "api = tweepy.API(auth)"
   ]
  },
  {
   "cell_type": "code",
   "execution_count": 49,
   "metadata": {
    "collapsed": false
   },
   "outputs": [],
   "source": [
    "# Tweet a test message and then destroy it using the tweet id\n",
    "status = api.update_status(\"Hi this is a test message.\")\n",
    "status_id = status.id\n",
    "status_destroy = api.destroy_status(status_id)"
   ]
  },
  {
   "cell_type": "code",
   "execution_count": 41,
   "metadata": {
    "collapsed": false
   },
   "outputs": [
    {
     "name": "stdout",
     "output_type": "stream",
     "text": [
      ".@FoxNews should be ashamed for allowing experts to explain how to make a nuclear attack!\n"
     ]
    }
   ],
   "source": [
    "# Get the user object from \"realDonaldTrump\"\n",
    "user = api.get_user('realDonaldTrump')\n",
    "statuses = user.status\n",
    "print statuses.text"
   ]
  },
  {
   "cell_type": "markdown",
   "metadata": {},
   "source": [
    "# Alchemy API"
   ]
  },
  {
   "cell_type": "code",
   "execution_count": 58,
   "metadata": {
    "collapsed": false
   },
   "outputs": [],
   "source": [
    "# import alchemy API\n",
    "from alchemyapi import AlchemyAPI\n",
    "# initialize api instance\n",
    "alchemyapi = AlchemyAPI()"
   ]
  },
  {
   "cell_type": "code",
   "execution_count": 62,
   "metadata": {
    "collapsed": false
   },
   "outputs": [
    {
     "name": "stdout",
     "output_type": "stream",
     "text": [
      "Sentiment:  negative\n"
     ]
    }
   ],
   "source": [
    "# Analyze the sentiment of the text\n",
    "response = alchemyapi.sentiment(\"text\", statuses.text)\n",
    "print \"Sentiment: \",response[\"docSentiment\"][\"type\"]"
   ]
  },
  {
   "cell_type": "markdown",
   "metadata": {},
   "source": [
    "# Markov Model"
   ]
  },
  {
   "cell_type": "markdown",
   "metadata": {},
   "source": [
    "The code below generates text based on a large sample text, such that each word is generated based on the three words just before it. The generated sequence of words is given by a 3-Markov chain (here \"3\" means that the distribution of the value of each word is determined by the three previous words, instead of just the two previous word). That means that any four consecutive words in the generated text are also consecutive words somewhere in the sample text. If words w1 w2 w3 were the last three words added to the generated text string, then to generate the next word we look for all occurrences of w1 w2 w3 as consecutive words in the sample text, and see what word was just after them for each occurrence. The randomly generated text selects the next word to match one of those occurrences, selected at random with equal probability."
   ]
  },
  {
   "cell_type": "code",
   "execution_count": 19,
   "metadata": {
    "collapsed": false
   },
   "outputs": [
    {
     "data": {
      "text/plain": [
       "'going to make our country so rich again, and therefore make it great'"
      ]
     },
     "execution_count": 19,
     "metadata": {},
     "output_type": "execute_result"
    }
   ],
   "source": [
    "import numpy as np\n",
    "class Markov_text:\n",
    "    def __init__(self, open_file):   # The single parameter passed is a file handle\n",
    "        self.cache = {}  # Will be dictionary mapping a key (three consecutive words) to possible next word\n",
    "        self.open_file = open_file\n",
    "        self.words = self.file_to_words()  # Read the words from the file into array self.words\n",
    "        self.word_size = len(self.words)\n",
    "        self.database()   # Fill in the dictionary\n",
    "       \n",
    "       \n",
    "    def file_to_words(self):\n",
    "        self.open_file.seek(0)\n",
    "        data = self.open_file.read()\n",
    "        words = data.split()\n",
    "        return words\n",
    "           \n",
    "       \n",
    "    def quad(self):\n",
    "    # Generates quadruples from the given data string.    \n",
    "        if len(self.words) < 4:\n",
    "            return\n",
    "         \n",
    "        for i in range(len(self.words) - 3):\n",
    "            yield (self.words[i], self.words[i+1], self.words[i+2], self.words[i+3]) #Like return but returns a generator to be used once\n",
    "                       \n",
    "    def database(self):\n",
    "        for w1, w2, w3, w4 in self.quad(): #tuple of 4 words\n",
    "            key = (w1, w2, w3)\n",
    "            if key in self.cache:\n",
    "                self.cache[key].append(w4)\n",
    "            else:\n",
    "                self.cache[key] = [w4]\n",
    "                         \n",
    "    def generate_markov_text(self, size=10):\n",
    "        seed = np.random.randint(0, self.word_size-4)\n",
    "        w1, w2, w3 = self.words[seed], self.words[seed+1], self.words[seed+2]  # Initial key is (w1,w2)\n",
    "        gen_words = [w1,w2,w3]\n",
    "        for i in xrange(size):\n",
    "            w1, w2, w3 = w2, w3, np.random.choice(self.cache[(w1, w2, w3)])\n",
    "            gen_words.append(w3)\n",
    "        return ' '.join(gen_words)\n",
    "                       \n",
    "file_ = open('trump.txt')\n",
    "markov = Markov_text(file_)   # Creates the object markov using the file\n",
    "markov.generate_markov_text()   # Generate random text"
   ]
  }
 ],
 "metadata": {
  "kernelspec": {
   "display_name": "Python 2",
   "language": "python",
   "name": "python2"
  },
  "language_info": {
   "codemirror_mode": {
    "name": "ipython",
    "version": 2
   },
   "file_extension": ".py",
   "mimetype": "text/x-python",
   "name": "python",
   "nbconvert_exporter": "python",
   "pygments_lexer": "ipython2",
   "version": "2.7.11"
  }
 },
 "nbformat": 4,
 "nbformat_minor": 0
}
